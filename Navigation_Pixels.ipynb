{
 "cells": [
  {
   "cell_type": "markdown",
   "metadata": {},
   "source": [
    "# Navigation\n",
    "\n",
    "---\n",
    "\n",
    "Congratulations for completing the first project of the [Deep Reinforcement Learning Nanodegree](https://www.udacity.com/course/deep-reinforcement-learning-nanodegree--nd893)!  In this notebook, you will learn how to control an agent in a more challenging environment, where it can learn directly from raw pixels!  **Note that this exercise is optional!**\n",
    "\n",
    "### 1. Start the Environment\n",
    "\n",
    "We begin by importing some necessary packages.  If the code cell below returns an error, please revisit the project instructions to double-check that you have installed [Unity ML-Agents](https://github.com/Unity-Technologies/ml-agents/blob/master/docs/Installation.md) and [NumPy](http://www.numpy.org/)."
   ]
  },
  {
   "cell_type": "code",
   "execution_count": 1,
   "metadata": {},
   "outputs": [],
   "source": [
    "from unityagents import UnityEnvironment\n",
    "import numpy as np\n",
    "import matplotlib.pyplot as plt\n",
    "%matplotlib inline"
   ]
  },
  {
   "cell_type": "markdown",
   "metadata": {},
   "source": [
    "Next, we will start the environment!  **_Before running the code cell below_**, change the `file_name` parameter to match the location of the Unity environment that you downloaded.\n",
    "\n",
    "- **Mac**: `\"path/to/VisualBanana.app\"`\n",
    "- **Windows** (x86): `\"path/to/VisualBanana_Windows_x86/Banana.exe\"`\n",
    "- **Windows** (x86_64): `\"path/to/VisualBanana_Windows_x86_64/Banana.exe\"`\n",
    "- **Linux** (x86): `\"path/to/VisualBanana_Linux/Banana.x86\"`\n",
    "- **Linux** (x86_64): `\"path/to/VisualBanana_Linux/Banana.x86_64\"`\n",
    "- **Linux** (x86, headless): `\"path/to/VisualBanana_Linux_NoVis/Banana.x86\"`\n",
    "- **Linux** (x86_64, headless): `\"path/to/VisualBanana_Linux_NoVis/Banana.x86_64\"`\n",
    "\n",
    "For instance, if you are using a Mac, then you downloaded `VisualBanana.app`.  If this file is in the same folder as the notebook, then the line below should appear as follows:\n",
    "```\n",
    "env = UnityEnvironment(file_name=\"VisualBanana.app\")\n",
    "```"
   ]
  },
  {
   "cell_type": "code",
   "execution_count": 2,
   "metadata": {},
   "outputs": [],
   "source": [
    "env_file_name = '/home/m2keyofz/Downloads/VisualBanana_Linux/Banana.x86_64'\n",
    "# env = UnityEnvironment(file_name=env_file_name)"
   ]
  },
  {
   "cell_type": "markdown",
   "metadata": {},
   "source": [
    "### 4. It's Your Turn!\n",
    "\n",
    "Now it's your turn to train your own agent to solve the environment!  When training the environment, set `train_mode=True`, so that the line for resetting the environment looks like the following:\n",
    "```python\n",
    "env_info = env.reset(train_mode=True)[brain_name]\n",
    "```"
   ]
  },
  {
   "cell_type": "code",
   "execution_count": 3,
   "metadata": {},
   "outputs": [],
   "source": [
    "########################################################################\n",
    "#                                                                      #\n",
    "# This code is adapted from yingweiy's excellent GitHub repo:          #\n",
    "#   https://github.com/yingweiy/drlnd_project1_navigation.git          #\n",
    "#                                                                      #\n",
    "########################################################################\n",
    "\n",
    "class BananaEnv():\n",
    "    def __init__(self, env_file_name):\n",
    "        self.env  = UnityEnvironment(file_name=env_file_name)\n",
    "        \n",
    "        self.brain_name  = self.env.brain_names[0]\n",
    "        self.brain       = self.env.brains[self.brain_name]\n",
    "        self.action_size = self.brain.vector_action_space_size\n",
    "\n",
    "        self.last_frame  = None\n",
    "        self.last2_frame = None\n",
    "        self.last3_frame = None\n",
    "\n",
    "        self.reset()\n",
    "        self.state_size  = self.state.shape\n",
    "\n",
    "    def get_state(self):\n",
    "        # Convert from HeightxWidthxChannels to ChannelsxHeightxWidth\n",
    "        frame = np.transpose(self.env_info.visual_observations[0], (0,3,1,2))[:,:,:,:]\n",
    "        frame_size = frame.shape  # 1,3,84,84\n",
    "        \n",
    "        nframes = 4\n",
    "        self.state = np.zeros((1, frame_size[1], nframes, frame_size[2], frame_size[3]))\n",
    "        self.state[0, :, 0, :, :] = frame\n",
    "        if not(self.last_frame is None):\n",
    "            self.state[0, :, 1, :, :] = self.last_frame\n",
    "        if not(self.last2_frame is None):\n",
    "            self.state[0, :, 2, :, :] = self.last2_frame\n",
    "        if not (self.last3_frame is None):\n",
    "            self.state[0, :, 3, :, :] = self.last3_frame\n",
    "        self.last3_frame = self.last2_frame\n",
    "        self.last2_frame = self.last_frame\n",
    "        self.last_frame  = frame\n",
    "\n",
    "    def reset(self):\n",
    "        self.env_info = self.env.reset(train_mode=True)[self.brain_name]\n",
    "        self.get_state()\n",
    "        return self.state\n",
    "\n",
    "    def render(self):\n",
    "        pass\n",
    "\n",
    "    def step(self, action):\n",
    "        self.env_info = self.env.step(action)[self.brain_name]\n",
    "        self.get_state()\n",
    "        reward = self.env_info.rewards[0]\n",
    "        done   = self.env_info.local_done[0]\n",
    "        return self.state, reward, done, None\n",
    "\n",
    "    def close(self):\n",
    "        self.env.close()"
   ]
  },
  {
   "cell_type": "code",
   "execution_count": 4,
   "metadata": {},
   "outputs": [
    {
     "name": "stderr",
     "output_type": "stream",
     "text": [
      "INFO:unityagents:\n",
      "'Academy' started successfully!\n",
      "Unity Academy name: Academy\n",
      "        Number of Brains: 1\n",
      "        Number of External Brains : 1\n",
      "        Lesson number : 0\n",
      "        Reset Parameters :\n",
      "\t\t\n",
      "Unity brain name: BananaBrain\n",
      "        Number of Visual Observations (per agent): 1\n",
      "        Vector Observation space type: continuous\n",
      "        Vector Observation space size (per agent): 0\n",
      "        Number of stacked Vector Observation: 1\n",
      "        Vector Action space type: discrete\n",
      "        Vector Action space size (per agent): 4\n",
      "        Vector Action descriptions: , , , \n"
     ]
    }
   ],
   "source": [
    "from dqn import DQN\n",
    "\n",
    "env_file_name = '/home/m2keyofz/Downloads/VisualBanana_Linux/Banana.x86_64'\n",
    "env = BananaEnv(env_file_name)\n",
    "dqn = DQN(env.state_size, env.action_size, env)"
   ]
  },
  {
   "cell_type": "code",
   "execution_count": 5,
   "metadata": {},
   "outputs": [
    {
     "name": "stdout",
     "output_type": "stream",
     "text": [
      "Episode 100\tAverage Score: 0.28\n",
      "\tElapsed: 28.32 mins.\n",
      "Episode 200\tAverage Score: 0.86\n",
      "\tElapsed: 57.22 mins.\n",
      "\n",
      "*** TOTAL ELAPSED: 57.22 mins. ***\n"
     ]
    }
   ],
   "source": [
    "N_EPISODES = 1500\n",
    "\n",
    "scores, averages = dqn.train(n_episodes=N_EPISODES, max_t=1000, eps_start=1.0, eps_end=0.01, eps_decay=0.995)\n",
    "np.save('VisualBanana_Scores.npy', np.array(scores))\n",
    "                             \n",
    "# Episode 1000\tAverage Score: 11.17    Elapsed: 284.81 mins.\n",
    "# \n",
    "# Episode 100\tAverage Score:  0.28  \tElapsed: 27.60 mins.\n",
    "# Episode 200\tAverage Score:  0.86  \tElapsed: 55.65 mins.\n",
    "# Episode 300\tAverage Score:  2.49  \tElapsed: 83.87 mins.\n",
    "# Episode 400\tAverage Score:  4.55  \tElapsed: 112.05 mins.\n",
    "# Episode 500\tAverage Score:  7.46  \tElapsed: 140.93 mins.\n",
    "# Episode 600\tAverage Score:  8.87  \tElapsed: 169.00 mins.\n",
    "# Episode 700\tAverage Score: 9.970  \tElapsed: 197.32 mins.\n",
    "# Episode 800\tAverage Score: 9.999  \tElapsed: 225.73 mins.\n",
    "# Episode 900\tAverage Score: 12.15  \tElapsed: 254.13 mins.\n",
    "# Episode 1000\tAverage Score: 12.47  \tElapsed: 282.57 mins.\n",
    "# Episode 1030\tAverage Score: 12.96  \n",
    "#     \n",
    "# Environment solved in 931 episodes!\tAverage Score: 13.01\n",
    "# ~28GB RAM Usage!"
   ]
  },
  {
   "cell_type": "code",
   "execution_count": 6,
   "metadata": {},
   "outputs": [
    {
     "data": {
      "image/png": "[encoded data removed]",
      "text/plain": [
       "<matplotlib.figure.Figure at 0x7fab9c778390>"
      ]
     },
     "metadata": {
      "needs_background": "light"
     },
     "output_type": "display_data"
    }
   ],
   "source": [
    "# plot the scores\n",
    "fig = plt.figure()\n",
    "ax = fig.add_subplot(111)\n",
    "plt.plot(np.arange(len(scores)), scores,   c='blue', label='DQN')\n",
    "plt.plot(np.arange(len(scores)), averages, c='red',  label='Moving AVG')\n",
    "plt.ylabel('Score')\n",
    "plt.xlabel('Episode #')\n",
    "plt.show()"
   ]
  },
  {
   "cell_type": "code",
   "execution_count": 7,
   "metadata": {},
   "outputs": [],
   "source": [
    "env.close()"
   ]
  },
  {
   "cell_type": "code",
   "execution_count": null,
   "metadata": {},
   "outputs": [],
   "source": []
  }
 ],
 "metadata": {
  "kernelspec": {
   "display_name": "Python 3",
   "language": "python",
   "name": "python3"
  },
  "language_info": {
   "codemirror_mode": {
    "name": "ipython",
    "version": 3
   },
   "file_extension": ".py",
   "mimetype": "text/x-python",
   "name": "python",
   "nbconvert_exporter": "python",
   "pygments_lexer": "ipython3",
   "version": "3.6.8"
  }
 },
 "nbformat": 4,
 "nbformat_minor": 2
}
